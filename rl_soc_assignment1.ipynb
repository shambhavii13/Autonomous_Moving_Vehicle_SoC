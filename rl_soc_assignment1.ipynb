{
  "nbformat": 4,
  "nbformat_minor": 0,
  "metadata": {
    "colab": {
      "provenance": []
    },
    "kernelspec": {
      "name": "python3",
      "display_name": "Python 3"
    },
    "language_info": {
      "name": "python"
    }
  },
  "cells": [
    {
      "cell_type": "code",
      "execution_count": 12,
      "metadata": {
        "colab": {
          "base_uri": "https://localhost:8080/"
        },
        "id": "lfTAylL5jTcG",
        "outputId": "85559f63-0c35-4c89-c0dc-71c9a28b43cf"
      },
      "outputs": [
        {
          "output_type": "stream",
          "name": "stdout",
          "text": [
            "0.44444444444444453\n"
          ]
        }
      ],
      "source": [
        "import numpy as np\n",
        "\n",
        "def mult(a,b,n):\n",
        "  c=[[0 for _ in range(n)] for _ in range(n)]\n",
        "  for i in range(n):\n",
        "    for j in range(n):\n",
        "      for k in range(n):\n",
        "        c[i][j]+=a[i][k]*b[k][j]\n",
        "  return c\n",
        "\n",
        "def power(c,p,n):\n",
        "  I=[[0 for _ in range(n)] for _ in range(n)]\n",
        "  for i in range(n):\n",
        "    I[i][i]=1\n",
        "  while p:\n",
        "    if  p%2:\n",
        "      I = mult(I,c,n)\n",
        "      c = mult(c,c,n)\n",
        "    p=p/2\n",
        "  return I\n",
        "  \n",
        "p = [[1, 0, 0, 0], [0.5, 0, 0.5, 0],[0, 0.2, 0, 0.8], [0, 0,0, 1]]\n",
        "n = 4\n",
        "s = 2\n",
        "f = 4\n",
        "t = 99\n",
        "prob=power(p,t,n)[s-1][f-1]\n",
        "print(prob)\n"
      ]
    }
  ]
}